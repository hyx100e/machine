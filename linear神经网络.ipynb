{
 "cells": [
  {
   "cell_type": "code",
   "execution_count": 3,
   "metadata": {},
   "outputs": [],
   "source": [
    "import tensorflow as tf \n",
    "import numpy as np\n",
    "import matplotlib.pyplot as plt\n"
   ]
  },
  {
   "cell_type": "code",
   "execution_count": 4,
   "metadata": {},
   "outputs": [
    {
     "data": {
      "image/png": "[encoded data removed]",
      "text/plain": [
       "<Figure size 432x288 with 1 Axes>"
      ]
     },
     "metadata": {},
     "output_type": "display_data"
    }
   ],
   "source": [
    "num_points = 100\n",
    "vectors_set = []\n",
    "for i in range(1000):\n",
    "    train_X = np.random.normal(0.0,0.4)\n",
    "    train_Y = 2 * train_X + np.random.normal(0.0,0.1) \n",
    "    vectors_set.append([train_X,train_Y])\n",
    "\n",
    "x_data = [v[0] for v in vectors_set]\n",
    "y_data = [v[1] for v in vectors_set]\n",
    "plt.plot(x_data,y_data,'ro',label = 'Original data')\n",
    "plt.legend(loc='best')\n",
    "plt.show()"
   ]
  },
  {
   "cell_type": "code",
   "execution_count": 5,
   "metadata": {},
   "outputs": [
    {
     "name": "stdout",
     "output_type": "stream",
     "text": [
      "epoch 1 cost= 0.29645115 w= [-0.6255411] b= [0.00471315]\n",
      "epoch 51 cost= 0.040044162 w= [1.4179941] b= [0.00510448]\n",
      "epoch 101 cost= 0.013959548 w= [1.8748083] b= [0.00021142]\n",
      "epoch 151 cost= 0.009965416 w= [1.9769369] b= [-0.00088258]\n",
      "epoch 201 cost= 0.009164319 w= [1.9997692] b= [-0.00112716]\n",
      "epoch 251 cost= 0.008989803 w= [2.004874] b= [-0.00118184]\n",
      "epoch 301 cost= 0.0089510195 w= [2.0060153] b= [-0.00119406]\n",
      "epoch 351 cost= 0.00894236 w= [2.0062704] b= [-0.0011968]\n",
      "epoch 401 cost= 0.008940432 w= [2.0063272] b= [-0.00119741]\n",
      "epoch 451 cost= 0.008940004 w= [2.0063398] b= [-0.00119755]\n",
      "cost= 0.008940004 W= [2.0063398] b= [-0.00119754]\n"
     ]
    },
    {
     "data": {
      "image/png": "[encoded data removed]",
      "text/plain": [
       "<Figure size 432x288 with 1 Axes>"
      ]
     },
     "metadata": {},
     "output_type": "display_data"
    }
   ],
   "source": [
    "with tf.name_scope('inputs'):\n",
    "    x = tf.placeholder('float',name='xs')\n",
    "    y = tf.placeholder('float',name='ys')\n",
    "with tf.name_scope('layer'):\n",
    "    w = tf.Variable(tf.random_normal([1]),name='wegight')\n",
    "    b = tf.Variable(tf.zeros((1)),name='bias')\n",
    "    z = x*w+b\n",
    "with tf.name_scope('cost'):\n",
    "    cost = tf.reduce_mean(tf.square(y-z),name='cost')\n",
    "learining_rate = 0.1\n",
    "\n",
    "with tf.name_scope('train'):\n",
    "    optimizer = tf.train.GradientDescentOptimizer(learining_rate).minimize(cost)\n",
    "sess = tf.Session()\n",
    "writer = tf.summary.FileWriter('logs/', sess.graph) \n",
    "sess.run(tf.global_variables_initializer())\n",
    "\n",
    "training_epochs = 500\n",
    "display_step = 50\n",
    "\n",
    "for epoch in range(training_epochs):\n",
    "    sess.run(optimizer,feed_dict={x:x_data,y:y_data})\n",
    "    if epoch % display_step == 0:\n",
    "        loss = sess.run(cost,feed_dict={x: train_X, y:train_Y})\n",
    "        print('epoch',epoch+1,'cost=',loss,'w=',sess.run(w),'b=',sess.run(b))\n",
    "#     print('finished')\n",
    "print (\"cost=\", sess.run(cost, feed_dict={x: train_X, y: train_Y}), \"W=\", sess.run(w), \"b=\", sess.run(b))\n",
    "plt.scatter(x_data,y_data,c='r')\n",
    "plt.plot(x_data,sess.run(w)*x_data+sess.run(b),c='b')\n",
    "plt.show()\n"
   ]
  },
  {
   "cell_type": "code",
   "execution_count": null,
   "metadata": {},
   "outputs": [],
   "source": [
    "\n"
   ]
  },
  {
   "cell_type": "code",
   "execution_count": 5,
   "metadata": {},
   "outputs": [
    {
     "data": {
      "text/plain": [
       "-0.5136217018856155"
      ]
     },
     "execution_count": 5,
     "metadata": {},
     "output_type": "execute_result"
    }
   ],
   "source": [
    "train_X"
   ]
  },
  {
   "cell_type": "code",
   "execution_count": null,
   "metadata": {},
   "outputs": [],
   "source": []
  }
 ],
 "metadata": {
  "kernelspec": {
   "display_name": "Python 3",
   "language": "python",
   "name": "python3"
  },
  "language_info": {
   "codemirror_mode": {
    "name": "ipython",
    "version": 3
   },
   "file_extension": ".py",
   "mimetype": "text/x-python",
   "name": "python",
   "nbconvert_exporter": "python",
   "pygments_lexer": "ipython3",
   "version": "3.6.5"
  }
 },
 "nbformat": 4,
 "nbformat_minor": 2
}
